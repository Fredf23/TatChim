{
  "cells": [
    {
      "cell_type": "markdown",
      "metadata": {
        "id": "view-in-github",
        "colab_type": "text"
      },
      "source": [
        "<a href=\"https://colab.research.google.com/github/Fredf23/TatChim/blob/main/%D0%9A%D0%BE%D0%BF%D0%B8%D1%8F_%D0%B1%D0%BB%D0%BE%D0%BA%D0%BD%D0%BE%D1%82%D0%B0_%22kaggle_compound_ipynb%22.ipynb\" target=\"_parent\"><img src=\"https://colab.research.google.com/assets/colab-badge.svg\" alt=\"Open In Colab\"/></a>"
      ]
    },
    {
      "cell_type": "markdown",
      "metadata": {
        "id": "xKxTMuvjCII5"
      },
      "source": [
        "# Данный ноутбук исследует возможность применения датасета, доступного на Kaggle.\n",
        "## Указанный датасет (https://www.kaggle.com/datasets/cnezhmar/omposite-materials) содержит исходные признаки, выраженные в виде пропорций матрицы-наполнителя, количества использованного отвердителя и др., а также физико-химические показатели произведенного компаунда: плотность, модуль упругости, прочности и тд.\n",
        "## Поэтому было принято решение разделить датасет на входные и целевые показатели:\n",
        "## Входные признаки:\n",
        "###   *-Соотношение матрица-наполнитель*\n",
        "### *-Плотность, кг/м3*\n",
        "###     *-Количество отвердителя, м.%*\n",
        "### *-Содержание эпоксидных групп,%_2*\n",
        "### *-Потребление смолы, г/м2*\n",
        "###\n",
        "## К целевым признакам были отнесены:\n",
        "### *-Модуль упругости, ГПа*\n",
        "### *-Температура вспышки, С_2*\n",
        "### *-Поверхностная плотность, г/м2*\n",
        "###  *-Модуль упругости при растяжении, ГПа*\n",
        "### *-Прочность при растяжении, МПа*\n",
        "\n"
      ]
    },
    {
      "cell_type": "markdown",
      "metadata": {
        "id": "6i7DsTCsCII6"
      },
      "source": [
        "# 1. Парсинг датасета, проверка на пропуски,\n",
        "\n",
        "\n",
        "### Так как оригинальный датасет представлен в формате xlsx, после скачивания файл был конвертирован/сохранен в формат csv. При этом был указан разделитель \",\" (comma)."
      ]
    },
    {
      "cell_type": "code",
      "execution_count": null,
      "metadata": {
        "id": "qiQL3VsjCII7"
      },
      "outputs": [],
      "source": [
        "import pandas as pd\n",
        "import numpy as np\n",
        "from sklearn.model_selection import train_test_split\n",
        "from torch.utils.data import Subset\n",
        "from sklearn.preprocessing import StandardScaler\n",
        "import torch\n",
        "import torch.nn as nn\n",
        "import torch.optim as optim"
      ]
    },
    {
      "cell_type": "code",
      "execution_count": null,
      "metadata": {
        "id": "BMDpqrxTCII8",
        "outputId": "27b0c9b2-8c37-402d-da89-46ef5e043bb6"
      },
      "outputs": [
        {
          "data": {
            "text/html": [
              "<div>\n",
              "<style scoped>\n",
              "    .dataframe tbody tr th:only-of-type {\n",
              "        vertical-align: middle;\n",
              "    }\n",
              "\n",
              "    .dataframe tbody tr th {\n",
              "        vertical-align: top;\n",
              "    }\n",
              "\n",
              "    .dataframe thead th {\n",
              "        text-align: right;\n",
              "    }\n",
              "</style>\n",
              "<table border=\"1\" class=\"dataframe\">\n",
              "  <thead>\n",
              "    <tr style=\"text-align: right;\">\n",
              "      <th></th>\n",
              "      <th>Unnamed: 0</th>\n",
              "      <th>Соотношение матрица-наполнитель</th>\n",
              "      <th>Плотность, кг/м3</th>\n",
              "      <th>модуль упругости, ГПа</th>\n",
              "      <th>Количество отвердителя, м.%</th>\n",
              "      <th>Содержание эпоксидных групп,%_2</th>\n",
              "      <th>Температура вспышки, С_2</th>\n",
              "      <th>Поверхностная плотность, г/м2</th>\n",
              "      <th>Модуль упругости при растяжении, ГПа</th>\n",
              "      <th>Прочность при растяжении, МПа</th>\n",
              "      <th>Потребление смолы, г/м2</th>\n",
              "    </tr>\n",
              "  </thead>\n",
              "  <tbody>\n",
              "    <tr>\n",
              "      <th>0</th>\n",
              "      <td>0</td>\n",
              "      <td>1.857143</td>\n",
              "      <td>2030.0</td>\n",
              "      <td>738.736842</td>\n",
              "      <td>30.00</td>\n",
              "      <td>22.267857</td>\n",
              "      <td>100.000000</td>\n",
              "      <td>210.0</td>\n",
              "      <td>70.0</td>\n",
              "      <td>3000.0</td>\n",
              "      <td>220.0</td>\n",
              "    </tr>\n",
              "    <tr>\n",
              "      <th>1</th>\n",
              "      <td>1</td>\n",
              "      <td>1.857143</td>\n",
              "      <td>2030.0</td>\n",
              "      <td>738.736842</td>\n",
              "      <td>50.00</td>\n",
              "      <td>23.750000</td>\n",
              "      <td>284.615385</td>\n",
              "      <td>210.0</td>\n",
              "      <td>70.0</td>\n",
              "      <td>3000.0</td>\n",
              "      <td>220.0</td>\n",
              "    </tr>\n",
              "    <tr>\n",
              "      <th>2</th>\n",
              "      <td>2</td>\n",
              "      <td>1.857143</td>\n",
              "      <td>2030.0</td>\n",
              "      <td>738.736842</td>\n",
              "      <td>49.90</td>\n",
              "      <td>33.000000</td>\n",
              "      <td>284.615385</td>\n",
              "      <td>210.0</td>\n",
              "      <td>70.0</td>\n",
              "      <td>3000.0</td>\n",
              "      <td>220.0</td>\n",
              "    </tr>\n",
              "    <tr>\n",
              "      <th>3</th>\n",
              "      <td>3</td>\n",
              "      <td>1.857143</td>\n",
              "      <td>2030.0</td>\n",
              "      <td>738.736842</td>\n",
              "      <td>129.00</td>\n",
              "      <td>21.250000</td>\n",
              "      <td>300.000000</td>\n",
              "      <td>210.0</td>\n",
              "      <td>70.0</td>\n",
              "      <td>3000.0</td>\n",
              "      <td>220.0</td>\n",
              "    </tr>\n",
              "    <tr>\n",
              "      <th>4</th>\n",
              "      <td>4</td>\n",
              "      <td>2.771331</td>\n",
              "      <td>2030.0</td>\n",
              "      <td>753.000000</td>\n",
              "      <td>111.86</td>\n",
              "      <td>22.267857</td>\n",
              "      <td>284.615385</td>\n",
              "      <td>210.0</td>\n",
              "      <td>70.0</td>\n",
              "      <td>3000.0</td>\n",
              "      <td>220.0</td>\n",
              "    </tr>\n",
              "  </tbody>\n",
              "</table>\n",
              "</div>"
            ],
            "text/plain": [
              "   Unnamed: 0  Соотношение матрица-наполнитель  Плотность, кг/м3  \\\n",
              "0           0                         1.857143            2030.0   \n",
              "1           1                         1.857143            2030.0   \n",
              "2           2                         1.857143            2030.0   \n",
              "3           3                         1.857143            2030.0   \n",
              "4           4                         2.771331            2030.0   \n",
              "\n",
              "   модуль упругости, ГПа  Количество отвердителя, м.%  \\\n",
              "0             738.736842                        30.00   \n",
              "1             738.736842                        50.00   \n",
              "2             738.736842                        49.90   \n",
              "3             738.736842                       129.00   \n",
              "4             753.000000                       111.86   \n",
              "\n",
              "   Содержание эпоксидных групп,%_2  Температура вспышки, С_2  \\\n",
              "0                        22.267857                100.000000   \n",
              "1                        23.750000                284.615385   \n",
              "2                        33.000000                284.615385   \n",
              "3                        21.250000                300.000000   \n",
              "4                        22.267857                284.615385   \n",
              "\n",
              "   Поверхностная плотность, г/м2  Модуль упругости при растяжении, ГПа  \\\n",
              "0                          210.0                                  70.0   \n",
              "1                          210.0                                  70.0   \n",
              "2                          210.0                                  70.0   \n",
              "3                          210.0                                  70.0   \n",
              "4                          210.0                                  70.0   \n",
              "\n",
              "   Прочность при растяжении, МПа  Потребление смолы, г/м2  \n",
              "0                         3000.0                    220.0  \n",
              "1                         3000.0                    220.0  \n",
              "2                         3000.0                    220.0  \n",
              "3                         3000.0                    220.0  \n",
              "4                         3000.0                    220.0  "
            ]
          },
          "execution_count": 3,
          "metadata": {},
          "output_type": "execute_result"
        }
      ],
      "source": [
        "file_path = 'укажите ваш путь к скачанному в формате csv файлу'\n",
        "df = pd.read_csv(file_path)\n",
        "df.head()"
      ]
    },
    {
      "cell_type": "code",
      "execution_count": null,
      "metadata": {
        "id": "_hpdCTsRCII8",
        "outputId": "818d92a9-a149-41c7-dbb7-9e9ef90adc6f"
      },
      "outputs": [
        {
          "data": {
            "text/plain": [
              "(1023, 11)"
            ]
          },
          "execution_count": 8,
          "metadata": {},
          "output_type": "execute_result"
        }
      ],
      "source": [
        "df.shape"
      ]
    },
    {
      "cell_type": "code",
      "execution_count": null,
      "metadata": {
        "id": "lGNGgotKCII8",
        "outputId": "f65def6f-7796-4d24-9a6d-2d65b04ec39b"
      },
      "outputs": [
        {
          "data": {
            "text/plain": [
              "Unnamed: 0                              1023\n",
              "Соотношение матрица-наполнитель         1023\n",
              "Плотность, кг/м3                        1023\n",
              "модуль упругости, ГПа                   1023\n",
              "Количество отвердителя, м.%             1023\n",
              "Содержание эпоксидных групп,%_2         1023\n",
              "Температура вспышки, С_2                1023\n",
              "Поверхностная плотность, г/м2           1023\n",
              "Модуль упругости при растяжении, ГПа    1023\n",
              "Прочность при растяжении, МПа           1023\n",
              "Потребление смолы, г/м2                 1023\n",
              "dtype: int64"
            ]
          },
          "execution_count": 33,
          "metadata": {},
          "output_type": "execute_result"
        }
      ],
      "source": [
        "# Экспресс-проверка на возможные пропуски. Количество строк после сброса пустых ячееек\n",
        "# совпадает с количеством строк первоначального датафрейма - 1023.\n",
        "df.dropna(how='all').count()"
      ]
    },
    {
      "cell_type": "code",
      "execution_count": null,
      "metadata": {
        "id": "plKCTEyYCII9",
        "outputId": "ac3c1e89-c5da-47b4-9073-2a03ce88fbad"
      },
      "outputs": [
        {
          "name": "stdout",
          "output_type": "stream",
          "text": [
            "<class 'pandas.core.frame.DataFrame'>\n",
            "RangeIndex: 1023 entries, 0 to 1022\n",
            "Data columns (total 11 columns):\n",
            " #   Column                                Non-Null Count  Dtype  \n",
            "---  ------                                --------------  -----  \n",
            " 0   Unnamed: 0                            1023 non-null   int64  \n",
            " 1   Соотношение матрица-наполнитель       1023 non-null   float64\n",
            " 2   Плотность, кг/м3                      1023 non-null   float64\n",
            " 3   модуль упругости, ГПа                 1023 non-null   float64\n",
            " 4   Количество отвердителя, м.%           1023 non-null   float64\n",
            " 5   Содержание эпоксидных групп,%_2       1023 non-null   float64\n",
            " 6   Температура вспышки, С_2              1023 non-null   float64\n",
            " 7   Поверхностная плотность, г/м2         1023 non-null   float64\n",
            " 8   Модуль упругости при растяжении, ГПа  1023 non-null   float64\n",
            " 9   Прочность при растяжении, МПа         1023 non-null   float64\n",
            " 10  Потребление смолы, г/м2               1023 non-null   float64\n",
            "dtypes: float64(10), int64(1)\n",
            "memory usage: 88.0 KB\n"
          ]
        }
      ],
      "source": [
        "# Также, убедимся, что типы данных значений всех ячеек цифровые.\n",
        "df.info()"
      ]
    },
    {
      "cell_type": "code",
      "execution_count": null,
      "metadata": {
        "id": "ZjjZ_pWQCII9",
        "outputId": "2cd7d524-1fe0-45b2-a07a-0f0efb520d04"
      },
      "outputs": [
        {
          "data": {
            "text/html": [
              "<div>\n",
              "<style scoped>\n",
              "    .dataframe tbody tr th:only-of-type {\n",
              "        vertical-align: middle;\n",
              "    }\n",
              "\n",
              "    .dataframe tbody tr th {\n",
              "        vertical-align: top;\n",
              "    }\n",
              "\n",
              "    .dataframe thead th {\n",
              "        text-align: right;\n",
              "    }\n",
              "</style>\n",
              "<table border=\"1\" class=\"dataframe\">\n",
              "  <thead>\n",
              "    <tr style=\"text-align: right;\">\n",
              "      <th></th>\n",
              "      <th>Соотношение матрица-наполнитель</th>\n",
              "      <th>Плотность, кг/м3</th>\n",
              "      <th>Количество отвердителя, м.%</th>\n",
              "      <th>Содержание эпоксидных групп,%_2</th>\n",
              "      <th>Потребление смолы, г/м2</th>\n",
              "    </tr>\n",
              "  </thead>\n",
              "  <tbody>\n",
              "    <tr>\n",
              "      <th>0</th>\n",
              "      <td>1.857143</td>\n",
              "      <td>2030.0</td>\n",
              "      <td>30.0</td>\n",
              "      <td>22.267857</td>\n",
              "      <td>220.0</td>\n",
              "    </tr>\n",
              "    <tr>\n",
              "      <th>1</th>\n",
              "      <td>1.857143</td>\n",
              "      <td>2030.0</td>\n",
              "      <td>50.0</td>\n",
              "      <td>23.750000</td>\n",
              "      <td>220.0</td>\n",
              "    </tr>\n",
              "    <tr>\n",
              "      <th>2</th>\n",
              "      <td>1.857143</td>\n",
              "      <td>2030.0</td>\n",
              "      <td>49.9</td>\n",
              "      <td>33.000000</td>\n",
              "      <td>220.0</td>\n",
              "    </tr>\n",
              "  </tbody>\n",
              "</table>\n",
              "</div>"
            ],
            "text/plain": [
              "   Соотношение матрица-наполнитель  Плотность, кг/м3  \\\n",
              "0                         1.857143            2030.0   \n",
              "1                         1.857143            2030.0   \n",
              "2                         1.857143            2030.0   \n",
              "\n",
              "   Количество отвердителя, м.%  Содержание эпоксидных групп,%_2  \\\n",
              "0                         30.0                        22.267857   \n",
              "1                         50.0                        23.750000   \n",
              "2                         49.9                        33.000000   \n",
              "\n",
              "   Потребление смолы, г/м2  \n",
              "0                    220.0  \n",
              "1                    220.0  \n",
              "2                    220.0  "
            ]
          },
          "execution_count": 24,
          "metadata": {},
          "output_type": "execute_result"
        }
      ],
      "source": [
        "# Создается дата-фрейм входных данных\n",
        "df_input = df.iloc[:, [1, 2, 4, 5, -1]]\n",
        "df_input.head(3)"
      ]
    },
    {
      "cell_type": "code",
      "execution_count": null,
      "metadata": {
        "id": "manRvYfKCII9",
        "outputId": "1bbfe9dc-4db8-4c07-e8fc-11265737a150"
      },
      "outputs": [
        {
          "data": {
            "text/html": [
              "<div>\n",
              "<style scoped>\n",
              "    .dataframe tbody tr th:only-of-type {\n",
              "        vertical-align: middle;\n",
              "    }\n",
              "\n",
              "    .dataframe tbody tr th {\n",
              "        vertical-align: top;\n",
              "    }\n",
              "\n",
              "    .dataframe thead th {\n",
              "        text-align: right;\n",
              "    }\n",
              "</style>\n",
              "<table border=\"1\" class=\"dataframe\">\n",
              "  <thead>\n",
              "    <tr style=\"text-align: right;\">\n",
              "      <th></th>\n",
              "      <th>модуль упругости, ГПа</th>\n",
              "      <th>Температура вспышки, С_2</th>\n",
              "      <th>Поверхностная плотность, г/м2</th>\n",
              "      <th>Модуль упругости при растяжении, ГПа</th>\n",
              "      <th>Прочность при растяжении, МПа</th>\n",
              "    </tr>\n",
              "  </thead>\n",
              "  <tbody>\n",
              "    <tr>\n",
              "      <th>0</th>\n",
              "      <td>738.736842</td>\n",
              "      <td>100.000000</td>\n",
              "      <td>210.0</td>\n",
              "      <td>70.0</td>\n",
              "      <td>3000.0</td>\n",
              "    </tr>\n",
              "    <tr>\n",
              "      <th>1</th>\n",
              "      <td>738.736842</td>\n",
              "      <td>284.615385</td>\n",
              "      <td>210.0</td>\n",
              "      <td>70.0</td>\n",
              "      <td>3000.0</td>\n",
              "    </tr>\n",
              "    <tr>\n",
              "      <th>2</th>\n",
              "      <td>738.736842</td>\n",
              "      <td>284.615385</td>\n",
              "      <td>210.0</td>\n",
              "      <td>70.0</td>\n",
              "      <td>3000.0</td>\n",
              "    </tr>\n",
              "  </tbody>\n",
              "</table>\n",
              "</div>"
            ],
            "text/plain": [
              "   модуль упругости, ГПа  Температура вспышки, С_2  \\\n",
              "0             738.736842                100.000000   \n",
              "1             738.736842                284.615385   \n",
              "2             738.736842                284.615385   \n",
              "\n",
              "   Поверхностная плотность, г/м2  Модуль упругости при растяжении, ГПа  \\\n",
              "0                          210.0                                  70.0   \n",
              "1                          210.0                                  70.0   \n",
              "2                          210.0                                  70.0   \n",
              "\n",
              "   Прочность при растяжении, МПа  \n",
              "0                         3000.0  \n",
              "1                         3000.0  \n",
              "2                         3000.0  "
            ]
          },
          "execution_count": 26,
          "metadata": {},
          "output_type": "execute_result"
        }
      ],
      "source": [
        "#  Создается дата-фрейм целевых признаков\n",
        "df_target = df.iloc[:, [3, 6, 7, 8, 9]]\n",
        "df_target.head(3)"
      ]
    },
    {
      "cell_type": "markdown",
      "metadata": {
        "id": "5dgIeThNCII9"
      },
      "source": [
        "# 2. Разбивка данных на тренировочную и валидационную выборки"
      ]
    },
    {
      "cell_type": "code",
      "execution_count": null,
      "metadata": {
        "id": "xGjCuFv_CII9"
      },
      "outputs": [],
      "source": [
        "X_train, X_test, y_train, y_test = train_test_split(df_input, df_target, train_size=0.8, random_state=42)"
      ]
    },
    {
      "cell_type": "code",
      "execution_count": null,
      "metadata": {
        "id": "4WqS9qaKCII9"
      },
      "outputs": [],
      "source": [
        "# В дальнейшем планирую проработать разбивку методами Pytorch:\n",
        "\n",
        "# train_idx_input, val_idx_input = train_test_split(list(range(len(df_input))), test_size=0.2, random_state=0)\n",
        "# datasets_input = {}\n",
        "# datasets_input['train'] = Subset(df_input, train_idx_input)\n",
        "# datasets_input['val'] = Subset(df_input, val_idx_input)\n",
        "\n",
        "\n",
        "# train_idx_target, val_idx_target = train_test_split(list(range(len(df_target))), test_size=0.2)\n",
        "# datasets_target = {}\n",
        "# datasets_target['train'] = Subset(df_target, train_idx_target)\n",
        "# datasets_target['val'] = Subset(df_target, val_idx_target)"
      ]
    },
    {
      "cell_type": "markdown",
      "metadata": {
        "id": "KZB76N6WCII9"
      },
      "source": [
        "# 3. Нормирование данных и перевод их в тензоры\n"
      ]
    },
    {
      "cell_type": "code",
      "execution_count": null,
      "metadata": {
        "id": "-XWklsy5CII-"
      },
      "outputs": [],
      "source": [
        "# Создаем скейлеры\n",
        "scaler_input = StandardScaler()\n",
        "scaler_target = StandardScaler()"
      ]
    },
    {
      "cell_type": "code",
      "execution_count": null,
      "metadata": {
        "id": "I4mG147yCII-"
      },
      "outputs": [],
      "source": [
        "# Далее создаем скалированные сеты тренировочных и тестовых данных\n",
        "X_train_scaled = scaler_input.fit_transform(X_train.values)\n",
        "y_train_scaled = scaler_target.fit_transform(y_train.values)\n",
        "X_test_scaled = scaler_input.fit_transform(X_test.values)\n",
        "y_test_scaled = scaler_target.fit_transform(y_test.values)"
      ]
    },
    {
      "cell_type": "code",
      "execution_count": null,
      "metadata": {
        "id": "U2xKH-QyCII-"
      },
      "outputs": [],
      "source": [
        "# Перевод скалированных сетов в тензоры\n",
        "X_train_tensor = torch.tensor(X_train_scaled, dtype=torch.float32)\n",
        "y_train_tensor = torch.tensor(y_train_scaled, dtype=torch.float32)\n",
        "X_test_tensor = torch.tensor(X_test_scaled, dtype=torch.float32)\n",
        "y_test_tensor = torch.tensor(y_test_scaled, dtype=torch.float32)\n"
      ]
    },
    {
      "cell_type": "code",
      "execution_count": null,
      "metadata": {
        "id": "ZtsQ_MHMCII-",
        "outputId": "6a67e904-f7fe-4185-f048-d9d707e5b3b2"
      },
      "outputs": [
        {
          "data": {
            "text/plain": [
              "torch.Size([818, 5])"
            ]
          },
          "execution_count": 69,
          "metadata": {},
          "output_type": "execute_result"
        }
      ],
      "source": [
        "X_train_tensor.shape"
      ]
    },
    {
      "cell_type": "code",
      "execution_count": null,
      "metadata": {
        "id": "niNOyAOKCII-",
        "outputId": "caec5bd0-d755-46e7-9297-b8014dc227c6"
      },
      "outputs": [
        {
          "data": {
            "text/plain": [
              "torch.Size([818, 5])"
            ]
          },
          "execution_count": 70,
          "metadata": {},
          "output_type": "execute_result"
        }
      ],
      "source": [
        "y_train_tensor.shape"
      ]
    },
    {
      "cell_type": "code",
      "execution_count": null,
      "metadata": {
        "id": "CCDEjOCmCII-"
      },
      "outputs": [],
      "source": [
        "# Задаются гиперпараметры модели\n",
        "input_dim = X_train_tensor.shape[1]  # Размер входного тензора\n",
        "output_dim = y_train_tensor.shape[1]  # Размер выходного тензора\n",
        "d_model = input_dim  # Размерность модели должна быть равна размерности входных данных\n",
        "nhead = 1  # Так как d_model = 7, выбираем nhead = 1, чтобы d_model % nhead == 0\n",
        "num_encoder_layers = 3\n",
        "dim_feedforward = 128\n",
        "dropout = 0.1"
      ]
    },
    {
      "cell_type": "code",
      "execution_count": null,
      "metadata": {
        "id": "zVcQznSbCII-"
      },
      "outputs": [],
      "source": [
        "# Определение модели трансформера\n",
        "class TransformerModel(nn.Module):\n",
        "    def __init__(self, d_model, output_dim, nhead, num_encoder_layers, dim_feedforward, dropout=0.1):\n",
        "        super(TransformerModel, self).__init__()\n",
        "        self.encoder_layer = nn.TransformerEncoderLayer(d_model=d_model, nhead=nhead, dim_feedforward=dim_feedforward, dropout=dropout)\n",
        "        self.transformer_encoder = nn.TransformerEncoder(self.encoder_layer, num_layers=num_encoder_layers)\n",
        "        self.fc_out = nn.Linear(d_model, output_dim)\n",
        "\n",
        "    def forward(self, src):\n",
        "        src = src.unsqueeze(1)  # Добавление batch dimension\n",
        "        transformer_output = self.transformer_encoder(src)\n",
        "        output = self.fc_out(transformer_output.squeeze(1))  # Удаление batch dimension\n",
        "        return output\n"
      ]
    },
    {
      "cell_type": "code",
      "execution_count": null,
      "metadata": {
        "id": "9TH-A8EUCII-",
        "outputId": "0faa35dd-0507-4b75-aed6-71fff34086d9"
      },
      "outputs": [
        {
          "name": "stderr",
          "output_type": "stream",
          "text": [
            "/home/mike-pi/miniconda3/envs/torchenv/lib/python3.12/site-packages/torch/nn/modules/transformer.py:306: UserWarning: enable_nested_tensor is True, but self.use_nested_tensor is False because encoder_layer.self_attn.batch_first was not True(use batch_first for better inference performance)\n",
            "  warnings.warn(f\"enable_nested_tensor is True, but self.use_nested_tensor is False because {why_not_sparsity_fast_path}\")\n"
          ]
        }
      ],
      "source": [
        "# Инициализация модели\n",
        "model = TransformerModel(d_model, output_dim, nhead, num_encoder_layers, dim_feedforward, dropout)\n",
        "\n",
        "# Определение функции потерь и оптимизатора\n",
        "criterion = nn.MSELoss()\n",
        "optimizer = optim.Adam(model.parameters(), lr=0.001)\n"
      ]
    },
    {
      "cell_type": "code",
      "execution_count": null,
      "metadata": {
        "id": "oJl0ygjbCII-",
        "outputId": "c8d1235d-eaf7-4075-cf72-d8bb13022054"
      },
      "outputs": [
        {
          "name": "stdout",
          "output_type": "stream",
          "text": [
            "Epoch [10/1000], Loss: 1.0002\n",
            "Epoch [20/1000], Loss: 1.0011\n",
            "Epoch [30/1000], Loss: 0.9997\n",
            "Epoch [40/1000], Loss: 0.9992\n",
            "Epoch [50/1000], Loss: 0.9980\n",
            "Epoch [60/1000], Loss: 0.9964\n",
            "Epoch [70/1000], Loss: 0.9980\n",
            "Epoch [80/1000], Loss: 0.9970\n",
            "Epoch [90/1000], Loss: 0.9966\n",
            "Epoch [100/1000], Loss: 0.9988\n",
            "Epoch [110/1000], Loss: 0.9999\n",
            "Epoch [120/1000], Loss: 0.9967\n",
            "Epoch [130/1000], Loss: 1.0000\n",
            "Epoch [140/1000], Loss: 0.9984\n",
            "Epoch [150/1000], Loss: 0.9979\n",
            "Epoch [160/1000], Loss: 0.9949\n",
            "Epoch [170/1000], Loss: 0.9980\n",
            "Epoch [180/1000], Loss: 0.9949\n",
            "Epoch [190/1000], Loss: 0.9975\n",
            "Epoch [200/1000], Loss: 0.9978\n",
            "Epoch [210/1000], Loss: 0.9958\n",
            "Epoch [220/1000], Loss: 0.9942\n",
            "Epoch [230/1000], Loss: 0.9956\n",
            "Epoch [240/1000], Loss: 0.9954\n",
            "Epoch [250/1000], Loss: 0.9931\n",
            "Epoch [260/1000], Loss: 0.9933\n",
            "Epoch [270/1000], Loss: 0.9944\n",
            "Epoch [280/1000], Loss: 0.9951\n",
            "Epoch [290/1000], Loss: 0.9930\n",
            "Epoch [300/1000], Loss: 0.9928\n",
            "Epoch [310/1000], Loss: 0.9903\n",
            "Epoch [320/1000], Loss: 0.9897\n",
            "Epoch [330/1000], Loss: 0.9899\n",
            "Epoch [340/1000], Loss: 0.9914\n",
            "Epoch [350/1000], Loss: 0.9888\n",
            "Epoch [360/1000], Loss: 0.9909\n",
            "Epoch [370/1000], Loss: 0.9916\n",
            "Epoch [380/1000], Loss: 0.9921\n",
            "Epoch [390/1000], Loss: 0.9897\n",
            "Epoch [400/1000], Loss: 0.9885\n",
            "Epoch [410/1000], Loss: 0.9850\n",
            "Epoch [420/1000], Loss: 0.9890\n",
            "Epoch [430/1000], Loss: 0.9873\n",
            "Epoch [440/1000], Loss: 0.9864\n",
            "Epoch [450/1000], Loss: 0.9849\n",
            "Epoch [460/1000], Loss: 0.9887\n",
            "Epoch [470/1000], Loss: 0.9881\n",
            "Epoch [480/1000], Loss: 0.9874\n",
            "Epoch [490/1000], Loss: 0.9876\n",
            "Epoch [500/1000], Loss: 0.9870\n",
            "Epoch [510/1000], Loss: 0.9867\n",
            "Epoch [520/1000], Loss: 0.9874\n",
            "Epoch [530/1000], Loss: 0.9860\n",
            "Epoch [540/1000], Loss: 0.9893\n",
            "Epoch [550/1000], Loss: 0.9820\n",
            "Epoch [560/1000], Loss: 0.9859\n",
            "Epoch [570/1000], Loss: 0.9815\n",
            "Epoch [580/1000], Loss: 0.9865\n",
            "Epoch [590/1000], Loss: 0.9814\n",
            "Epoch [600/1000], Loss: 0.9837\n",
            "Epoch [610/1000], Loss: 0.9826\n",
            "Epoch [620/1000], Loss: 0.9865\n",
            "Epoch [630/1000], Loss: 0.9822\n",
            "Epoch [640/1000], Loss: 0.9833\n",
            "Epoch [650/1000], Loss: 0.9826\n",
            "Epoch [660/1000], Loss: 0.9837\n",
            "Epoch [670/1000], Loss: 0.9839\n",
            "Epoch [680/1000], Loss: 0.9824\n",
            "Epoch [690/1000], Loss: 0.9801\n",
            "Epoch [700/1000], Loss: 0.9825\n",
            "Epoch [710/1000], Loss: 0.9797\n",
            "Epoch [720/1000], Loss: 0.9798\n",
            "Epoch [730/1000], Loss: 0.9836\n",
            "Epoch [740/1000], Loss: 0.9830\n",
            "Epoch [750/1000], Loss: 0.9782\n",
            "Epoch [760/1000], Loss: 0.9812\n",
            "Epoch [770/1000], Loss: 0.9772\n",
            "Epoch [780/1000], Loss: 0.9769\n",
            "Epoch [790/1000], Loss: 0.9806\n",
            "Epoch [800/1000], Loss: 0.9788\n",
            "Epoch [810/1000], Loss: 0.9756\n",
            "Epoch [820/1000], Loss: 0.9761\n",
            "Epoch [830/1000], Loss: 0.9745\n",
            "Epoch [840/1000], Loss: 0.9761\n",
            "Epoch [850/1000], Loss: 0.9759\n",
            "Epoch [860/1000], Loss: 0.9764\n",
            "Epoch [870/1000], Loss: 0.9746\n",
            "Epoch [880/1000], Loss: 0.9765\n",
            "Epoch [890/1000], Loss: 0.9724\n",
            "Epoch [900/1000], Loss: 0.9765\n",
            "Epoch [910/1000], Loss: 0.9758\n",
            "Epoch [920/1000], Loss: 0.9754\n",
            "Epoch [930/1000], Loss: 0.9764\n",
            "Epoch [940/1000], Loss: 0.9751\n",
            "Epoch [950/1000], Loss: 0.9766\n",
            "Epoch [960/1000], Loss: 0.9727\n",
            "Epoch [970/1000], Loss: 0.9718\n",
            "Epoch [980/1000], Loss: 0.9748\n",
            "Epoch [990/1000], Loss: 0.9736\n",
            "Epoch [1000/1000], Loss: 0.9748\n"
          ]
        }
      ],
      "source": [
        "# Обучение модели\n",
        "num_epochs = 1000\n",
        "\n",
        "for epoch in range(num_epochs):\n",
        "    model.train()\n",
        "    optimizer.zero_grad()\n",
        "\n",
        "    # Прямой проход\n",
        "    outputs = model(X_train_tensor)\n",
        "\n",
        "    # Вычисление потерь\n",
        "    loss = criterion(outputs, y_train_tensor)\n",
        "\n",
        "    # Обратный проход и оптимизация\n",
        "    loss.backward()\n",
        "    optimizer.step()\n",
        "\n",
        "    if (epoch+1) % 10 == 0:\n",
        "        print(f'Epoch [{epoch+1}/{num_epochs}], Loss: {loss.item():.4f}')\n"
      ]
    },
    {
      "cell_type": "code",
      "execution_count": null,
      "metadata": {
        "id": "Wb_aytxBCII-",
        "outputId": "a3fe63f9-2b1e-4bdc-8263-5a3e6e47193b"
      },
      "outputs": [
        {
          "name": "stdout",
          "output_type": "stream",
          "text": [
            "Test Loss: 1.0160\n"
          ]
        }
      ],
      "source": [
        "# Проверка модели на тестовых данных\n",
        "model.eval()\n",
        "with torch.no_grad():\n",
        "    test_outputs = model(X_test_tensor)\n",
        "    test_loss = criterion(test_outputs, y_test_tensor)\n",
        "    print(f'Test Loss: {test_loss.item():.4f}')"
      ]
    }
  ],
  "metadata": {
    "kernelspec": {
      "display_name": "torchenv",
      "language": "python",
      "name": "python3"
    },
    "language_info": {
      "codemirror_mode": {
        "name": "ipython",
        "version": 3
      },
      "file_extension": ".py",
      "mimetype": "text/x-python",
      "name": "python",
      "nbconvert_exporter": "python",
      "pygments_lexer": "ipython3",
      "version": "3.12.3"
    },
    "colab": {
      "provenance": [],
      "toc_visible": true,
      "include_colab_link": true
    }
  },
  "nbformat": 4,
  "nbformat_minor": 0
}